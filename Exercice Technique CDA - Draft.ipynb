{
 "cells": [
  {
   "cell_type": "code",
   "execution_count": null,
   "metadata": {},
   "outputs": [],
   "source": [
    "pip install ipython-sql"
   ]
  },
  {
   "cell_type": "markdown",
   "metadata": {},
   "source": [
    "La connexion a aucune base de données n'est effectuée. La création des bases de données est effectuée de façon temporaire au sein de ce Notebook."
   ]
  },
  {
   "cell_type": "code",
   "execution_count": null,
   "metadata": {},
   "outputs": [],
   "source": [
    "%load_ext sql\n",
    "%sql sqlite://"
   ]
  },
  {
   "cell_type": "markdown",
   "metadata": {},
   "source": [
    "Les tables sont crées via des \"magic methods\" permettant d'utiliser SQL au sein de cellule du Notebook."
   ]
  },
  {
   "cell_type": "code",
   "execution_count": 3,
   "metadata": {
    "scrolled": true
   },
   "outputs": [
    {
     "name": "stdout",
     "output_type": "stream",
     "text": [
      " * sqlite://\n",
      "Done.\n",
      "Done.\n",
      "Done.\n",
      "Done.\n"
     ]
    },
    {
     "data": {
      "text/plain": [
       "[]"
      ]
     },
     "execution_count": 3,
     "metadata": {},
     "output_type": "execute_result"
    }
   ],
   "source": [
    "%%sql \n",
    "CREATE TABLE Users\n",
    "    (id INTEGER,\n",
    "    email TEXT,\n",
    "    password TEXT,\n",
    "    birthdate DATE);\n",
    "    \n",
    "CREATE TABLE Categories\n",
    "    (id INTEGER,\n",
    "    label TEXT);\n",
    "    \n",
    "CREATE TABLE Topics\n",
    "    (id INTEGER,\n",
    "    title TEXT);\n",
    "    \n",
    "CREATE TABLE Posts\n",
    "    (id INTEGER,\n",
    "    postDate DATE,\n",
    "    content TEXT);"
   ]
  },
  {
   "cell_type": "markdown",
   "metadata": {},
   "source": [
    "`date` du module `datetime` sera utilisé pour déterminer la date des posts."
   ]
  },
  {
   "cell_type": "code",
   "execution_count": null,
   "metadata": {},
   "outputs": [],
   "source": [
    "from datetime import date"
   ]
  },
  {
   "cell_type": "markdown",
   "metadata": {},
   "source": [
    "La première classe utilisée est `User`. Celle-ci contient un disctionnaire `USERS` qui contient l'ensemble des utilisateurs. La clé de chaque instance d'utilisateur correspond à son identifiant.  \n",
    "\n",
    "La classe contient (pour le moment) 3 méthodes de classe:  \n",
    "`User.create_user` permet de créer un nouvel utilisateur. Le mot de passe n'est pas encodé (bien qu'il pourait l'être).  \n",
    "`User.delete_user` permet de supprimer un utilisateur en saisissant son identifiant.  \n",
    "`User.add_post` permet de créer un nouveau post, et met à jour la table correspondante.\n",
    "La classe `User` contient un attribut `topics` qui contient l'ensemble des instance de `Topic` pour chaque instance de `User` ainsi qu'un attribut `posts` qui contient l'ensemble des instance de `Post` pour chaque instance de `User`."
   ]
  },
  {
   "cell_type": "code",
   "execution_count": null,
   "metadata": {},
   "outputs": [],
   "source": [
    "class User:\n",
    "    \n",
    "    USERS = {}\n",
    "    \n",
    "    def __init__(self, id, email, password, birthdate):\n",
    "        self.id = id\n",
    "        self.email = email\n",
    "        self.password = password\n",
    "        self.birthdate = birthdate\n",
    "        self.topics = []\n",
    "        self.posts = []\n",
    "        \n",
    "    @classmethod  \n",
    "    def create_user(cls, email, password, birthdate):\n",
    "        # Generate a new ID according to the number of users:\n",
    "        id = len(cls.USERS) + 1\n",
    "        # The ID is updated if it already exists:\n",
    "        while  id in cls.USERS.keys(): \n",
    "            id += 1\n",
    "        new_user = User(id, email, password, birthdate)\n",
    "        cls.USERS[id] = new_user\n",
    "        \n",
    "        %sql INSERT INTO Users (id, email, password, birthdate) VALUES (:id, :email, :password, :birthdate);\n",
    "        \n",
    "    @classmethod\n",
    "    def delete_user(cls, id):\n",
    "        del cls.USERS[id]\n",
    "        \n",
    "        %sql DELETE FROM Users WHERE id = :id;\n",
    "            \n",
    "    @classmethod       \n",
    "    def add_post(cls, user_id, content, topic):\n",
    "        post_date = str(date.today())\n",
    "        id = len(Post.POSTS) + 1\n",
    "        while  id in Post.POSTS.keys():\n",
    "            id += 1\n",
    "        new_post = Post(id, post_date, content, topic, user_id)\n",
    "        Post.POSTS[id] = new_post\n",
    "        cls.USERS[user_id].posts.append(new_post)\n",
    "        if topic not in cls.USERS[user_id].topics:\n",
    "            cls.USERS[user_id].topics.append(topic)\n",
    "        if topic not in Topic.TOPICS.values():\n",
    "            Topic._create_topic(user_id, topic)\n",
    "            \n",
    "        %sql INSERT INTO Posts (id, postDate, content) VALUES (:id, :post_date, :content);"
   ]
  },
  {
   "cell_type": "markdown",
   "metadata": {},
   "source": [
    "3 autres classes ont été créés : `Category`, `Topic`, et `Post`.  \n",
    "\n",
    "La classe `Category` contient un attribut `topics` qui contient l'ensemble des instance de `Topic` pour chaque instance de `Category`.\n",
    "\n",
    "La classe `Topic` contient un attribut `posts` qui contient l'ensemble des instance de `Post` pour chaque instance de `Topic`."
   ]
  },
  {
   "cell_type": "code",
   "execution_count": 7,
   "metadata": {},
   "outputs": [],
   "source": [
    " class Category:\n",
    "    \n",
    "    CATEGORIES = {}\n",
    "    \n",
    "    def __init__(self, id, label):\n",
    "        self.id = id\n",
    "        self.label = label\n",
    "        self.topics = []\n",
    "        \n",
    "    @classmethod  \n",
    "    def create_category(cls, label):\n",
    "        # Generate a new ID according to the number of users:\n",
    "        id = len(cls.CATEGORIES) + 1\n",
    "        # The ID is updated if it already exists:\n",
    "        while  id in cls.CATEGORIES.keys(): \n",
    "            id += 1\n",
    "        new_category = Category(id, label)\n",
    "        cls.CATEGORIES[id] = new_category\n",
    "        \n",
    "        %sql INSERT INTO Categories (id, label) VALUES (:id, :label);\n",
    "        \n",
    "    @classmethod\n",
    "    def delete_category(cls, id):\n",
    "        del cls.CATEGORIES[id]\n",
    "        \n",
    "        %sql DELETE FROM Categories WHERE id = :id;\n",
    "         \n",
    "        \n",
    "class Topic:\n",
    "    TOPICS = {}\n",
    "    def __init__(self, id, title, user, category = None):\n",
    "        self.id = id\n",
    "        self.title = title\n",
    "        self.category = category\n",
    "        self.user = user\n",
    "        self.posts = []\n",
    "    \n",
    "    @classmethod\n",
    "    def _create_topic(cls, user_id, title):\n",
    "        id = len(cls.TOPICS) + 1\n",
    "        # The ID is updated if it already exists:\n",
    "        while  id in cls.TOPICS.keys(): \n",
    "            id += 1\n",
    "        new_topic = Topic(id, title, user_id)\n",
    "        cls.TOPICS[id] = new_topic\n",
    "        \n",
    "        %sql INSERT INTO Topics (id, title) VALUES (:id, :title);\n",
    "        \n",
    "        \n",
    "          \n",
    "class Post: \n",
    "    POSTS = {}\n",
    "    def __init__(self, id, post_date, content, topic, user):\n",
    "        self.id = id\n",
    "        self.post_date = post_date\n",
    "        self.content = content\n",
    "        self.topic = topic\n",
    "        self.user = user\n",
    "    "
   ]
  }
 ],
 "metadata": {
  "kernelspec": {
   "display_name": "Python 3.7.5 64-bit",
   "language": "python",
   "name": "python37564bit9ded0fb88f79475dbd12427ae789db60"
  },
  "language_info": {
   "codemirror_mode": {
    "name": "ipython",
    "version": 3
   },
   "file_extension": ".py",
   "mimetype": "text/x-python",
   "name": "python",
   "nbconvert_exporter": "python",
   "pygments_lexer": "ipython3",
   "version": "3.7.5"
  }
 },
 "nbformat": 4,
 "nbformat_minor": 4
}
